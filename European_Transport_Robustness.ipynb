{
 "cells": [
  {
   "cell_type": "markdown",
   "id": "f76e9e16",
   "metadata": {},
   "source": [
    "## Robustness of European transportation"
   ]
  },
  {
   "cell_type": "code",
   "execution_count": null,
   "id": "482242b9",
   "metadata": {},
   "outputs": [
    {
     "name": "stdout",
     "output_type": "stream",
     "text": [
      "Nodes 1039 and edges 1305\n"
     ]
    }
   ],
   "source": [
    "import networkx as nx\n",
    "\n",
    "# Load the Pajek graph and convert to a simple undirected NetworkX graph\n",
    "G0 = nx.read_pajek(\"data/europe.net\")\n",
    "G  = nx.Graph(G0)\n",
    "\n",
    "n, m = G.number_of_nodes(), G.number_of_edges()\n",
    "print(f\"Nodes {n} and edges {m}\")\n"
   ]
  },
  {
   "cell_type": "markdown",
   "id": "f5e54bb3",
   "metadata": {},
   "source": [
    "Helper fucntion. We measure how big the largest island of connected cities is and if the graph is empty the size is zero."
   ]
  },
  {
   "cell_type": "code",
   "execution_count": 3,
   "id": "25b057ff",
   "metadata": {},
   "outputs": [],
   "source": [
    "def lcc_size(H: nx.Graph) -> int:\n",
    "    if H.number_of_nodes() == 0:\n",
    "        return 0\n",
    "    return len(max(nx.connected_components(H), key=len))\n"
   ]
  },
  {
   "cell_type": "markdown",
   "id": "2a6d9aa0",
   "metadata": {},
   "source": [
    "Baseline connectivity. Just to know where we start."
   ]
  },
  {
   "cell_type": "code",
   "execution_count": 4,
   "id": "aede6ad3",
   "metadata": {},
   "outputs": [
    {
     "name": "stdout",
     "output_type": "stream",
     "text": [
      "LCC before removals 1039 which is 100.0% of all cities\n"
     ]
    }
   ],
   "source": [
    "baseline_lcc = lcc_size(G)\n",
    "print(f\"LCC before removals {baseline_lcc} which is {baseline_lcc/n:.1%} of all cities\")"
   ]
  },
  {
   "cell_type": "markdown",
   "id": "787f25de",
   "metadata": {},
   "source": [
    "The strategy I will use is a greedy corridor strategy based on betweenness centrality. Idea  is that cities that lie on many shortest routes act like corridors between large regions. At each step I will compute betweenness on the current graph remove the city with the highest score then repeat. This is fast and it naturally targets bridge like cities that keep distant regions connected."
   ]
  },
  {
   "cell_type": "code",
   "execution_count": 5,
   "id": "1805353f",
   "metadata": {},
   "outputs": [
    {
     "data": {
      "text/plain": [
       "['Brest',\n",
       " 'Warsaw',\n",
       " 'Saint Petersburg',\n",
       " 'Kiev',\n",
       " 'Niš',\n",
       " 'Gdańsk',\n",
       " 'Mukachevo',\n",
       " 'Chişinău',\n",
       " 'Trieste',\n",
       " 'Vinnytsia',\n",
       " 'Budapest',\n",
       " 'Zagreb',\n",
       " 'Oradea',\n",
       " 'Kherson',\n",
       " 'Suceava']"
      ]
     },
     "execution_count": 5,
     "metadata": {},
     "output_type": "execute_result"
    }
   ],
   "source": [
    "def greedy_betweenness_k_removal(G: nx.Graph, k: int = 15):\n",
    "    H = G.copy()\n",
    "    removed = []\n",
    "    for _ in range(k):\n",
    "        # recompute on the current graph at every step\n",
    "        bc = nx.betweenness_centrality(H)\n",
    "        v  = max(bc, key=bc.get)\n",
    "        removed.append(v)\n",
    "        H.remove_node(v)\n",
    "    return removed, H\n",
    "\n",
    "removed, G_after = greedy_betweenness_k_removal(G, k=15)\n",
    "removed\n"
   ]
  },
  {
   "cell_type": "markdown",
   "id": "27681a5b",
   "metadata": {},
   "source": [
    "Lets now check the size of the largest island after the removals of the above cities and see the share among remaining cities and among the original graph for completeness."
   ]
  },
  {
   "cell_type": "code",
   "execution_count": null,
   "id": "d7e58272",
   "metadata": {},
   "outputs": [
    {
     "name": "stdout",
     "output_type": "stream",
     "text": [
      "Removed cities in order:\n",
      "Brest, Warsaw, Saint Petersburg, Kiev, Niš, Gdańsk, Mukachevo, Chişinău, Trieste, Vinnytsia, Budapest, Zagreb, Oradea, Kherson, Suceava\n",
      "LCC after removals 442\n",
      "Share of remaining cities 43.2%\n"
     ]
    }
   ],
   "source": [
    "lcc_after = lcc_size(G_after)\n",
    "remaining = G_after.number_of_nodes()           # =n-15\n",
    "share_remaining = lcc_after / remaining\n",
    "share_original  = lcc_after / n\n",
    "\n",
    "print(\"Removed cities in order:\")\n",
    "print(\", \".join(removed))\n",
    "print(f\"LCC after removals {lcc_after}\")\n",
    "print(f\"Share of remaining cities {share_remaining:.1%}\")\n",
    "\n"
   ]
  },
  {
   "cell_type": "markdown",
   "id": "5f67ba77",
   "metadata": {},
   "source": [
    "Therefore cities are \n",
    "1. Brest\n",
    "2. Warsaw\n",
    "3. Saint Petersburg \n",
    "4. Kiev, \n",
    "5. Niš \n",
    "6. Gdańsk \n",
    "7. Mukachevo\n",
    "8. Chişinău \n",
    "9.Trieste\n",
    "10. Vinnytsia\n",
    "11. Budapest, \n",
    "12. Zagreb\n",
    "13. Oradea \n",
    "14. Kherson \n",
    "15. Suceava\n",
    "\n",
    "Largest connected component after removals is 442 cities which is 43.2 percent of the remaining cities\n",
    "\n"
   ]
  },
  {
   "cell_type": "markdown",
   "id": "f0018be0",
   "metadata": {},
   "source": [
    "Explaintion / Resasoning:\n",
    "\n",
    "Some cities serve as corridors that many shortest trips pass through.If I close those corridor cities the map falls into separate islands and travel across Europe becomes hard. Betweenness centrality scores how often a city sits on shortest routes. I repeatedly remove the highest betweenness city and recompute because the network changes after every removal. After removing fifteen such cities the largest remaining island contains well under 50% of the remaining cities so the goal is met."
   ]
  }
 ],
 "metadata": {
  "kernelspec": {
   "display_name": "base",
   "language": "python",
   "name": "python3"
  },
  "language_info": {
   "codemirror_mode": {
    "name": "ipython",
    "version": 3
   },
   "file_extension": ".py",
   "mimetype": "text/x-python",
   "name": "python",
   "nbconvert_exporter": "python",
   "pygments_lexer": "ipython3",
   "version": "3.12.3"
  }
 },
 "nbformat": 4,
 "nbformat_minor": 5
}
