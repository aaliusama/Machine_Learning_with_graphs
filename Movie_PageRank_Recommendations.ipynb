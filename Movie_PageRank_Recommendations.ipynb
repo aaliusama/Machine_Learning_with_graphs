{
 "cells": [
  {
   "cell_type": "markdown",
   "id": "bbd13632",
   "metadata": {},
   "source": [
    "## Movie recommendations with personalized PageRank"
   ]
  },
  {
   "cell_type": "markdown",
   "id": "c51d6393",
   "metadata": {},
   "source": [
    "Lets load the graph safely and keep all nodes"
   ]
  },
  {
   "cell_type": "code",
   "execution_count": 18,
   "id": "b0250497",
   "metadata": {},
   "outputs": [
    {
     "name": "stdout",
     "output_type": "stream",
     "text": [
      "Loaded graph with 6,577 nodes and 16,842 edges\n"
     ]
    }
   ],
   "source": [
    "import networkx as nx\n",
    "from typing import Iterable, Dict, List, Tuple\n",
    "\n",
    "\n",
    "G_raw = nx.read_pajek(\"data/movies_graph.net\")\n",
    "\n",
    "G = nx.Graph()\n",
    "G.add_nodes_from(G_raw.nodes(data=True))   \n",
    "G.add_edges_from(G_raw.edges())            \n",
    "\n",
    "print(f\"Loaded graph with {G.number_of_nodes():,} nodes and {G.number_of_edges():,} edges\")\n"
   ]
  },
  {
   "cell_type": "markdown",
   "id": "98947c34",
   "metadata": {},
   "source": [
    "Lets add tiny helpers to read labels clearly and to tell movies apart from mode nodes. In this dataset mode nodes have labels that start with m. Everything else is a movie"
   ]
  },
  {
   "cell_type": "code",
   "execution_count": 21,
   "id": "9cb610d9",
   "metadata": {},
   "outputs": [
    {
     "name": "stdout",
     "output_type": "stream",
     "text": [
      "Sample labels: [\"'71\", 'm-Action', 'm-Crime', 'm-Drama', 'm-Thriller', 'm-War', \"m-Jack O'Connell\", 'm-Jack Lowden', 'm-Paul Popplewell', 'm-Adam Nagaitis', 'm-Yann Demange', 'm-English', 'm-UK', \"m-'71\", '12 Rounds 2 - Reloaded', 'm-Adventure', 'm-Randy Orton', 'm-Tom Stevens', 'm-Brian Markinson', 'm-Venus Terzo']\n",
      "Movies: 1337 Modes: 5240\n"
     ]
    }
   ],
   "source": [
    "# Function to return clean string label for any node\n",
    "def get_label(n) -> str:\n",
    "    \"\"\"Return a .\"\"\"\n",
    "    lbl = G.nodes[n].get(\"label\", str(n))\n",
    "    return str(lbl).strip('\"')\n",
    "# Function to check if node is mode. Mode nodes start with 'm-'\n",
    "def is_mode(n) -> bool:\n",
    "    return get_label(n).lower().startswith(\"m-\")\n",
    "\n",
    "# Fuction to check if node represents movie name.\n",
    "def is_movie(n) -> bool:\n",
    "    return not is_mode(n)\n",
    "\n",
    "# Sanity check\n",
    "sample_labels = [get_label(n) for n in list(G.nodes())[:30]]\n",
    "n_movies = sum(1 for n in G.nodes() if is_movie(n))\n",
    "n_modes  = G.number_of_nodes() - n_movies\n",
    "print(\"Sample labels:\", sample_labels[:20])\n",
    "print(\"Movies:\", n_movies, \"Modes:\", n_modes)\n"
   ]
  },
  {
   "cell_type": "markdown",
   "id": "393cbc27",
   "metadata": {},
   "source": [
    "Lets now add simple search helper to grab nodes by text and personalized PageRank. I will define personalized PageRank with a clean seed distribution. Finally I add two combiners. Geometric mean for \"AND\" and simple average for \"OR\". Also defien a function to return top k movie nodes by score. \n",
    "I will use these to build the five queries. "
   ]
  },
  {
   "cell_type": "code",
   "execution_count": null,
   "id": "2893342a",
   "metadata": {},
   "outputs": [
    {
     "name": "stdout",
     "output_type": "stream",
     "text": [
      "Moana candidates: ['Moana']\n",
      "Tom Hanks candidates: ['m-Tom Hanks']\n",
      "Drama candidates: ['m-Drama']\n",
      "Action candidates: ['m-Action', 'm-Extraction']\n",
      "Adventure candidates: ['m-Adventure']\n",
      "Brad Pitt candidates: ['m-Brad Pitt']\n",
      "George Clooney candidates: ['m-George Clooney']\n"
     ]
    }
   ],
   "source": [
    "# Step 3. Search, PPR, and score combiners\n",
    "\n",
    "from typing import Iterable, Dict, List, Tuple\n",
    "import numpy as np\n",
    "import networkx as nx\n",
    "\n",
    "# Function to limmit nodes whose label contains text. \n",
    "def find_nodes(text: str, *, include_modes=True, include_movies=True, limit=10) -> List[Tuple[str, str]]:\n",
    "    q = text.lower()\n",
    "    out = []\n",
    "    for n in G.nodes():\n",
    "        lbl = get_label(n)\n",
    "        ok_type = (include_modes and is_mode(n)) or (include_movies and is_movie(n))\n",
    "        if ok_type and q in lbl.lower():\n",
    "            out.append((n, lbl))\n",
    "            if len(out) >= limit:\n",
    "                break\n",
    "    return out\n",
    "\n",
    "# Function for personalized pagerank wiltg teleport mass spread uniformly over the given seeds.\n",
    "def ppr(seeds: Iterable, alpha: float = 0.85) -> Dict: #Alpha is the chance to take a normal step\n",
    "    seeds = list(seeds)\n",
    "    if not seeds:\n",
    "        return {}\n",
    "    w = 1.0 / len(seeds)\n",
    "    personalization = {n: 0.0 for n in G.nodes()}\n",
    "    for s in seeds:\n",
    "        personalization[s] = w\n",
    "    return nx.pagerank(G, alpha=alpha, personalization=personalization)\n",
    "\n",
    "# Function for geomertic mean. It rewars nodes that are strong for all conditions\n",
    "def combine_and(scores_list: List[Dict], eps: float = 1e-15) -> Dict:\n",
    "    if not scores_list:\n",
    "        return {}\n",
    "    keys = set().union(*[d.keys() for d in scores_list])\n",
    "    out = {}\n",
    "    for k in keys:\n",
    "        vals = [max(d.get(k, 0.0), eps) for d in scores_list]\n",
    "        out[k] = float(np.prod(vals) ** (1.0 / len(vals)))\n",
    "    return out\n",
    "\n",
    "# Function for simple mean. It rewars nodes that are strong for any condition\n",
    "def combine_or(scores_list: List[Dict]) -> Dict:\n",
    "    if not scores_list:\n",
    "        return {}\n",
    "    keys = set().union(*[d.keys() for d in scores_list])\n",
    "    out = {}\n",
    "    for k in keys:\n",
    "        vals = [d.get(k, 0.0) for d in scores_list]\n",
    "        out[k] = float(np.mean(vals))\n",
    "    return out\n",
    "\n",
    "# Function to return top k movie nodes by score. It skips any in exclude\n",
    "def top_movies(score_dict: Dict, *, exclude: Iterable = (), k: int = 15) -> List[Tuple[str, float]]:\n",
    "    ex = set(exclude)\n",
    "    items = []\n",
    "    for n, s in score_dict.items():\n",
    "        if is_movie(n) and n not in ex:\n",
    "            items.append((get_label(n), float(s)))\n",
    "    items.sort(key=lambda t: t[1], reverse=True)\n",
    "    return items[:k]\n",
    "\n",
    "# Quick check ro show a few candidates for common terms\n",
    "print(\"Moana candidates:\", [lbl for _, lbl in find_nodes(\"Moana\", include_movies=True, include_modes=False)])\n",
    "print(\"Tom Hanks candidates:\", [lbl for _, lbl in find_nodes(\"Tom Hanks\", include_modes=True, include_movies=False)])\n",
    "print(\"Drama candidates:\", [lbl for _, lbl in find_nodes(\"Drama\", include_modes=True, include_movies=False)][:5])\n",
    "print(\"Action candidates:\", [lbl for _, lbl in find_nodes(\"Action\", include_modes=True, include_movies=False)][:5])\n",
    "print(\"Adventure candidates:\", [lbl for _, lbl in find_nodes(\"Adventure\", include_modes=True, include_movies=False)][:5])\n",
    "print(\"Brad Pitt candidates:\", [lbl for _, lbl in find_nodes(\"Brad Pitt\", include_modes=True, include_movies=False)])\n",
    "print(\"George Clooney candidates:\", [lbl for _, lbl in find_nodes(\"George Clooney\", include_modes=True, include_movies=False)])\n"
   ]
  },
  {
   "cell_type": "markdown",
   "id": "9da631eb",
   "metadata": {},
   "source": [
    "Lets now build queries and print top results. Logic is that I will grab the seed nodes for each query then I will run personalized PageRank then I will combine scores with geometric mean and simple menan. Finally I will only rank movie nodes and I skip the seed movie itself when that makes sense. "
   ]
  },
  {
   "cell_type": "markdown",
   "id": "7ab42ffe",
   "metadata": {},
   "source": [
    "Function to return node whose label matches exactly else None. "
   ]
  },
  {
   "cell_type": "code",
   "execution_count": 24,
   "id": "304911b6",
   "metadata": {},
   "outputs": [],
   "source": [
    "def pick_exact(label_text: str):\n",
    "    for n in G.nodes():\n",
    "        if get_label(n) == label_text:\n",
    "            return n\n",
    "    return None"
   ]
  },
  {
   "cell_type": "markdown",
   "id": "4cf56eb5",
   "metadata": {},
   "source": [
    "Query 1: Finding top 15 movies similar to the animated movie Moana."
   ]
  },
  {
   "cell_type": "markdown",
   "id": "9fea0dc6",
   "metadata": {},
   "source": [
    "Idea: I think of the movie graph as a map. Moana is a place on that map. From Moana you can walk to its actors, directors, genres, and then on to other movies that share those things. We release a tiny random walker on this map. At each step the walker either follows a link to a neighbor or snaps back to Moana. Because the walker keeps snapping back to Moana it spends most of its time in the neighborhood of Moana. Any movie that is close by through many short paths gets visited a lot. The visit rate becomes that movie’s score. Higher score means more similar to Moana. At the end we list only movie nodes, drop Moana itself then sort by score and finally show the top results"
   ]
  },
  {
   "cell_type": "code",
   "execution_count": 26,
   "id": "3727d95a",
   "metadata": {},
   "outputs": [
    {
     "name": "stdout",
     "output_type": "stream",
     "text": [
      " 1. Saving Santa                                  score=0.00162228\n",
      " 2. Frozen                                        score=0.00151347\n",
      " 3. Smallfoot                                     score=0.0014918\n",
      " 4. Lion King                                     score=0.00144753\n",
      " 5. Hoodwinked                                    score=0.00144243\n",
      " 6. Rio                                           score=0.00142845\n",
      " 7. Book of Life                                  score=0.00133951\n",
      " 8. Muppets Most Wanted                           score=0.00128614\n",
      " 9. Aladdin                                       score=0.00123583\n",
      "10. Into the Woods                                score=0.0011949\n",
      "11. Greatest Showman                              score=0.00113187\n",
      "12. Planet 51                                     score=0.00112896\n",
      "13. Sweeney Todd - The Demon Barber of Fleet Street score=0.00103229\n",
      "14. Jumanji 2 - Welcome to the Jungle             score=0.000954246\n",
      "15. Skyscraper                                    score=0.000913035\n"
     ]
    }
   ],
   "source": [
    "moana = pick_exact(\"Moana\")\n",
    "if moana:\n",
    "    s = ppr([moana])\n",
    "    out1 = top_movies(s, exclude=[moana], k=15)\n",
    "    for i, (title, sc) in enumerate(out1, 1):\n",
    "        print(f\"{i:2d}. {title:45s} score={sc:.6g}\")\n",
    "else:\n",
    "    print(\"Moana not found\")"
   ]
  },
  {
   "cell_type": "markdown",
   "id": "edef63dd",
   "metadata": {},
   "source": [
    "Query 2:  Finding dramas starring Tom Hanks"
   ]
  },
  {
   "cell_type": "code",
   "execution_count": 27,
   "id": "197b2030",
   "metadata": {},
   "outputs": [
    {
     "name": "stdout",
     "output_type": "stream",
     "text": [
      " 1. Forrest Gump                                  score=0.0029402\n",
      " 2. Captain Phillips                              score=0.00293454\n",
      " 3. Sully                                         score=0.00291289\n",
      " 4. Saving Private Ryan                           score=0.00288604\n",
      " 5. Inferno                                       score=0.00284561\n",
      " 6. Saving Mr. Banks                              score=0.00276516\n",
      " 7. Da Vinci Code                                 score=0.00200921\n",
      " 8. Toy Story 3                                   score=0.00173738\n",
      " 9. Toy Story That Time Forgot                    score=0.00172135\n",
      "10. Angels & Demons                               score=0.00167005\n",
      "11. Polar Express                                 score=0.00166542\n",
      "12. Toy Story of Terror                           score=0.00153506\n",
      "13. Kraftidioten                                  score=0.000774082\n",
      "14. Blade Runner 2049                             score=0.000768155\n",
      "15. Blind Side                                    score=0.000694929\n"
     ]
    }
   ],
   "source": [
    "tom = pick_exact(\"m-Tom Hanks\")\n",
    "drama = pick_exact(\"m-Drama\")\n",
    "if tom and drama:\n",
    "    s_actor = ppr([tom])\n",
    "    s_genre = ppr([drama])\n",
    "    s_and = combine_and([s_actor, s_genre])\n",
    "    out2 = top_movies(s_and, k=15)\n",
    "    for i, (title, sc) in enumerate(out2, 1):\n",
    "        print(f\"{i:2d}. {title:45s} score={sc:.6g}\")\n",
    "else:\n",
    "    print(\"Missing Tom Hanks or Drama seed\")"
   ]
  },
  {
   "cell_type": "markdown",
   "id": "c6c538dc",
   "metadata": {},
   "source": [
    "Query 3: Finding action and adventure movies featuring Johnny Depp"
   ]
  },
  {
   "cell_type": "code",
   "execution_count": 28,
   "id": "e4e9505c",
   "metadata": {},
   "outputs": [
    {
     "name": "stdout",
     "output_type": "stream",
     "text": [
      " 1. Pirates of the Caribbean 5 - Dead Men Tell No Tales score=0.00148203\n",
      " 2. Pirates of the Caribbean 2 - Dead Man's Chest score=0.00147494\n",
      " 3. Pirates of the Caribbean - The Curse of the Black Pearl score=0.00131665\n",
      " 4. Pirates of the Caribbean 3 - At World's End   score=0.00131665\n",
      " 5. Pirates of the Caribbean 4 - On Stranger Tides score=0.00129739\n",
      " 6. Lone Ranger                                   score=0.00129248\n",
      " 7. Tourist                                       score=0.0011604\n",
      " 8. Fantastic Beasts - The Crimes of Grindelwald  score=0.00109679\n",
      " 9. Transcendence                                 score=0.00102427\n",
      "10. Alice in Wonderland                           score=0.00102065\n",
      "11. Alice Through the Looking Glass               score=0.000982117\n",
      "12. Fear and Loathing in Las Vegas                score=0.00095554\n",
      "13. Mortdecai                                     score=0.000882605\n",
      "14. Sweeney Todd - The Demon Barber of Fleet Street score=0.000834799\n",
      "15. Dark Shadows                                  score=0.000810317\n"
     ]
    }
   ],
   "source": [
    "depp = pick_exact(\"m-Johnny Depp\")\n",
    "g_action = pick_exact(\"m-Action\")\n",
    "g_adventure = pick_exact(\"m-Adventure\")\n",
    "if depp and g_action and g_adventure:\n",
    "    s_depp = ppr([depp])\n",
    "    s_a = ppr([g_action])\n",
    "    s_adv = ppr([g_adventure])\n",
    "    s_and = combine_and([s_depp, s_a, s_adv])\n",
    "    out3 = top_movies(s_and, k=15)\n",
    "    for i, (title, sc) in enumerate(out3, 1):\n",
    "        print(f\"{i:2d}. {title:45s} score={sc:.6g}\")\n",
    "else:\n",
    "    print(\"Missing Depp or one of the genres\")"
   ]
  },
  {
   "cell_type": "markdown",
   "id": "7752cda7",
   "metadata": {},
   "source": [
    "Query 4: Finding movies co-starring Brad Pitt AND George Clooney"
   ]
  },
  {
   "cell_type": "code",
   "execution_count": 29,
   "id": "a828c86b",
   "metadata": {},
   "outputs": [
    {
     "name": "stdout",
     "output_type": "stream",
     "text": [
      " 1. Ocean's 12                                    score=0.0154755\n",
      " 2. Burn After Reading                            score=0.01493\n",
      " 3. Ocean's 13                                    score=0.014748\n",
      " 4. Ocean's 11                                    score=0.00542633\n",
      " 5. Hail, Caesar!                                 score=0.00464708\n",
      " 6. Monuments Men                                 score=0.00376517\n",
      " 7. Leatherheads                                  score=0.00359884\n",
      " 8. Babel                                         score=0.00344456\n",
      " 9. Gravity                                       score=0.00343713\n",
      "10. Tomorrowland                                  score=0.00318805\n",
      "11. Interview with the Vampire                    score=0.00292219\n",
      "12. Meet Joe Black                                score=0.00276865\n",
      "13. Se7en                                         score=0.00276577\n",
      "14. Fight Club                                    score=0.00271225\n",
      "15. World War Z                                   score=0.00264899\n"
     ]
    }
   ],
   "source": [
    "pitt = pick_exact(\"m-Brad Pitt\")\n",
    "clooney = pick_exact(\"m-George Clooney\")\n",
    "if pitt and clooney:\n",
    "    s_pitt = ppr([pitt])\n",
    "    s_clooney = ppr([clooney])\n",
    "    s_and = combine_and([s_pitt, s_clooney])\n",
    "    out4 = top_movies(s_and, k=15)\n",
    "    for i, (title, sc) in enumerate(out4, 1):\n",
    "        print(f\"{i:2d}. {title:45s} score={sc:.6g}\")\n",
    "else:\n",
    "    print(\"Missing one of the actor seeds\")"
   ]
  },
  {
   "cell_type": "markdown",
   "id": "6a6bc993",
   "metadata": {},
   "source": [
    "Query 5: Finding movies featuring either Brad Pitt or George Clooney, or both."
   ]
  },
  {
   "cell_type": "code",
   "execution_count": 30,
   "id": "03c05fb4",
   "metadata": {},
   "outputs": [
    {
     "name": "stdout",
     "output_type": "stream",
     "text": [
      " 1. Ocean's 12                                    score=0.0158939\n",
      " 2. Burn After Reading                            score=0.0153116\n",
      " 3. Ocean's 13                                    score=0.0151484\n",
      " 4. Ocean's 11                                    score=0.0115839\n",
      " 5. Leatherheads                                  score=0.0107926\n",
      " 6. Hail, Caesar!                                 score=0.0105646\n",
      " 7. Tomorrowland                                  score=0.0104201\n",
      " 8. Gravity                                       score=0.00990664\n",
      " 9. Monuments Men                                 score=0.00907123\n",
      "10. Interview with the Vampire                    score=0.00773485\n",
      "11. Fight Club                                    score=0.00700363\n",
      "12. Se7en                                         score=0.00697938\n",
      "13. Babel                                         score=0.00688665\n",
      "14. Allied                                        score=0.00673952\n",
      "15. Meet Joe Black                                score=0.00673069\n"
     ]
    }
   ],
   "source": [
    "if pitt or clooney:\n",
    "    parts = []\n",
    "    if pitt: parts.append(ppr([pitt]))\n",
    "    if clooney: parts.append(ppr([clooney]))\n",
    "    s_or = combine_or(parts)\n",
    "    out5 = top_movies(s_or, k=15)\n",
    "    for i, (title, sc) in enumerate(out5, 1):\n",
    "        print(f\"{i:2d}. {title:45s} score={sc:.6g}\")\n",
    "else:\n",
    "    print(\"No actor seeds found\")\n"
   ]
  },
  {
   "cell_type": "markdown",
   "id": "d8fde2c8",
   "metadata": {},
   "source": [
    "In summary, I used personalized PageRank over the provided movie knowledge graph. For each query I built a seed set that represents the intent for example a movie node for Moana or actor and genre nodes for Tom Hanks and Drama. Personalized PageRank simulates a random walk that keeps restarting at the seeds so nodes closer and more connected to the seeds get higher steady visit probability. For AND queries I ran one PageRank per condition and combined scores with the geometric mean so a movie must align with all conditions. For the OR query I averaged scores so either branch helps. I ranked only movie nodes and returned the top fifteen for each query"
   ]
  }
 ],
 "metadata": {
  "kernelspec": {
   "display_name": "base",
   "language": "python",
   "name": "python3"
  },
  "language_info": {
   "codemirror_mode": {
    "name": "ipython",
    "version": 3
   },
   "file_extension": ".py",
   "mimetype": "text/x-python",
   "name": "python",
   "nbconvert_exporter": "python",
   "pygments_lexer": "ipython3",
   "version": "3.12.3"
  }
 },
 "nbformat": 4,
 "nbformat_minor": 5
}
